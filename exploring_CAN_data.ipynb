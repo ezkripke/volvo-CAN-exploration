{
 "cells": [
  {
   "cell_type": "markdown",
   "metadata": {},
   "source": [
    "## Exploring OBD-II CAN Data"
   ]
  },
  {
   "cell_type": "code",
   "execution_count": 522,
   "metadata": {},
   "outputs": [],
   "source": [
    "import pandas as pd\n",
    "import numpy as np\n",
    "import matplotlib.pyplot as plt\n",
    "import seaborn as sns\n",
    "from collections import Counter"
   ]
  },
  {
   "cell_type": "markdown",
   "metadata": {},
   "source": [
    "### Sequence of Events \n",
    "(File \"0000286.TXT\", 286_video.mov for reference):\n",
    "```\n",
    "Battery and Engine On (~10 second mark in video)\n",
    "Logger On (unclear on *exact* timing, somewhere between battery on and first event)\n",
    "\n",
    "    Event     time in video    time after previous event     timestamp guess\n",
    "   Park           ~27s            ~10 seconds later             ~17:29:31\n",
    "   Drive          ~35s            ~8  seconds later             ~17:29:39\n",
    "   Park           ~39s            ~4  seconds later             ~17:29:43\n",
    "   Drive          ~45s            ~6  seconds later             ~17:29:49\n",
    "   Accelerate     ~50s            ~5  seconds later             ~17:29:54\n",
    "   Right Turn     ~60s            ~10 seconds later             ~17:30:04\n",
    "   ~20 mph\n",
    "```"
   ]
  },
  {
   "cell_type": "markdown",
   "metadata": {},
   "source": [
    "### Available CAN Channels\n",
    "\n",
    "According to [This Vehicle CAN Database Reference for the Volvo S60](http://www.racelogic.co.uk/_downloads/vbox/Vehicles/Other/Docs/Volvo-S60%202010-.pdf), the available CAN channels and their units are:\n",
    "```\n",
    "* Accelerator Pedal Position (%)\n",
    "* Brake Position (%)\n",
    "* Engine Speed (rpm)\n",
    "* Steering Angle (degrees)\n",
    "* Wheel Speed FL (km/h)\n",
    "* Wheel Speed FR (km/h)\n",
    "* Wheel Speed RL (km/h)\n",
    "* Wheel Speed RR (km/h)\n",
    "```"
   ]
  },
  {
   "cell_type": "code",
   "execution_count": 523,
   "metadata": {},
   "outputs": [],
   "source": [
    "# pull log into a dataframe\n",
    "logfile = open(\"0000286.TXT\", \"r\")\n",
    "df = pd.read_csv(logfile, sep=' ', parse_dates=True, infer_datetime_format=True, skiprows=17, header=None, names = [\"Date\", \"Timestamp\", \"Type\", \"ID\", \"Data\"])\n",
    "logfile.close()"
   ]
  },
  {
   "cell_type": "code",
   "execution_count": 524,
   "metadata": {
    "scrolled": true
   },
   "outputs": [
    {
     "data": {
      "text/html": [
       "<div>\n",
       "<style scoped>\n",
       "    .dataframe tbody tr th:only-of-type {\n",
       "        vertical-align: middle;\n",
       "    }\n",
       "\n",
       "    .dataframe tbody tr th {\n",
       "        vertical-align: top;\n",
       "    }\n",
       "\n",
       "    .dataframe thead th {\n",
       "        text-align: right;\n",
       "    }\n",
       "</style>\n",
       "<table border=\"1\" class=\"dataframe\">\n",
       "  <thead>\n",
       "    <tr style=\"text-align: right;\">\n",
       "      <th></th>\n",
       "      <th>Date</th>\n",
       "      <th>Timestamp</th>\n",
       "      <th>Type</th>\n",
       "      <th>ID</th>\n",
       "      <th>Data</th>\n",
       "    </tr>\n",
       "  </thead>\n",
       "  <tbody>\n",
       "    <tr>\n",
       "      <th>0</th>\n",
       "      <td>04/25</td>\n",
       "      <td>17:29:21:398</td>\n",
       "      <td>1</td>\n",
       "      <td>c0402a</td>\n",
       "      <td>1ee4000027ffd3ff</td>\n",
       "    </tr>\n",
       "    <tr>\n",
       "      <th>1</th>\n",
       "      <td>04/25</td>\n",
       "      <td>17:29:21:398</td>\n",
       "      <td>1</td>\n",
       "      <td>d00022</td>\n",
       "      <td>0000000000000000</td>\n",
       "    </tr>\n",
       "    <tr>\n",
       "      <th>2</th>\n",
       "      <td>04/25</td>\n",
       "      <td>17:29:21:398</td>\n",
       "      <td>1</td>\n",
       "      <td>11000022</td>\n",
       "      <td>01bbcc000055034a</td>\n",
       "    </tr>\n",
       "    <tr>\n",
       "      <th>3</th>\n",
       "      <td>04/25</td>\n",
       "      <td>17:29:21:399</td>\n",
       "      <td>1</td>\n",
       "      <td>11420006</td>\n",
       "      <td>0000000f0000c000</td>\n",
       "    </tr>\n",
       "    <tr>\n",
       "      <th>4</th>\n",
       "      <td>04/25</td>\n",
       "      <td>17:29:21:400</td>\n",
       "      <td>1</td>\n",
       "      <td>42406c</td>\n",
       "      <td>408a40006000c00f</td>\n",
       "    </tr>\n",
       "    <tr>\n",
       "      <th>5</th>\n",
       "      <td>04/25</td>\n",
       "      <td>17:29:21:400</td>\n",
       "      <td>1</td>\n",
       "      <td>1000020</td>\n",
       "      <td>00000001cc04c000</td>\n",
       "    </tr>\n",
       "    <tr>\n",
       "      <th>6</th>\n",
       "      <td>04/25</td>\n",
       "      <td>17:29:21:402</td>\n",
       "      <td>1</td>\n",
       "      <td>62401e</td>\n",
       "      <td>02144440fa156400</td>\n",
       "    </tr>\n",
       "    <tr>\n",
       "      <th>7</th>\n",
       "      <td>04/25</td>\n",
       "      <td>17:29:21:402</td>\n",
       "      <td>1</td>\n",
       "      <td>80401e</td>\n",
       "      <td>06000366002b7a00</td>\n",
       "    </tr>\n",
       "    <tr>\n",
       "      <th>8</th>\n",
       "      <td>04/25</td>\n",
       "      <td>17:29:21:403</td>\n",
       "      <td>1</td>\n",
       "      <td>a20016</td>\n",
       "      <td>0519840000636300</td>\n",
       "    </tr>\n",
       "    <tr>\n",
       "      <th>9</th>\n",
       "      <td>04/25</td>\n",
       "      <td>17:29:21:403</td>\n",
       "      <td>1</td>\n",
       "      <td>f00006</td>\n",
       "      <td>000032000000e000</td>\n",
       "    </tr>\n",
       "    <tr>\n",
       "      <th>10</th>\n",
       "      <td>04/25</td>\n",
       "      <td>17:29:21:403</td>\n",
       "      <td>1</td>\n",
       "      <td>1400006</td>\n",
       "      <td>0000000003f30215</td>\n",
       "    </tr>\n",
       "    <tr>\n",
       "      <th>11</th>\n",
       "      <td>04/25</td>\n",
       "      <td>17:29:21:405</td>\n",
       "      <td>1</td>\n",
       "      <td>224024</td>\n",
       "      <td>1c48440013ff0000</td>\n",
       "    </tr>\n",
       "    <tr>\n",
       "      <th>12</th>\n",
       "      <td>04/25</td>\n",
       "      <td>17:29:21:406</td>\n",
       "      <td>1</td>\n",
       "      <td>e24026</td>\n",
       "      <td>0001e0408f000000</td>\n",
       "    </tr>\n",
       "    <tr>\n",
       "      <th>13</th>\n",
       "      <td>04/25</td>\n",
       "      <td>17:29:21:406</td>\n",
       "      <td>1</td>\n",
       "      <td>10004002</td>\n",
       "      <td>80000000c000c000</td>\n",
       "    </tr>\n",
       "    <tr>\n",
       "      <th>14</th>\n",
       "      <td>04/25</td>\n",
       "      <td>17:29:21:406</td>\n",
       "      <td>1</td>\n",
       "      <td>10800006</td>\n",
       "      <td>0080006f00000100</td>\n",
       "    </tr>\n",
       "    <tr>\n",
       "      <th>15</th>\n",
       "      <td>04/25</td>\n",
       "      <td>17:29:21:407</td>\n",
       "      <td>1</td>\n",
       "      <td>10e24000</td>\n",
       "      <td>0000000000000000</td>\n",
       "    </tr>\n",
       "    <tr>\n",
       "      <th>16</th>\n",
       "      <td>04/25</td>\n",
       "      <td>17:29:21:408</td>\n",
       "      <td>1</td>\n",
       "      <td>c0402a</td>\n",
       "      <td>1ee4000027ffd3ff</td>\n",
       "    </tr>\n",
       "    <tr>\n",
       "      <th>17</th>\n",
       "      <td>04/25</td>\n",
       "      <td>17:29:21:408</td>\n",
       "      <td>1</td>\n",
       "      <td>d00022</td>\n",
       "      <td>0000000000000000</td>\n",
       "    </tr>\n",
       "    <tr>\n",
       "      <th>18</th>\n",
       "      <td>04/25</td>\n",
       "      <td>17:29:21:410</td>\n",
       "      <td>1</td>\n",
       "      <td>42406c</td>\n",
       "      <td>80e800006000c00f</td>\n",
       "    </tr>\n",
       "    <tr>\n",
       "      <th>19</th>\n",
       "      <td>04/25</td>\n",
       "      <td>17:29:21:410</td>\n",
       "      <td>1</td>\n",
       "      <td>1000020</td>\n",
       "      <td>00000001cc04c000</td>\n",
       "    </tr>\n",
       "    <tr>\n",
       "      <th>20</th>\n",
       "      <td>04/25</td>\n",
       "      <td>17:29:21:410</td>\n",
       "      <td>1</td>\n",
       "      <td>10400020</td>\n",
       "      <td>802947689b370db5</td>\n",
       "    </tr>\n",
       "    <tr>\n",
       "      <th>21</th>\n",
       "      <td>04/25</td>\n",
       "      <td>17:29:21:412</td>\n",
       "      <td>1</td>\n",
       "      <td>62401e</td>\n",
       "      <td>02146440fa156400</td>\n",
       "    </tr>\n",
       "    <tr>\n",
       "      <th>22</th>\n",
       "      <td>04/25</td>\n",
       "      <td>17:29:21:412</td>\n",
       "      <td>1</td>\n",
       "      <td>80401e</td>\n",
       "      <td>1e00036a002b7a00</td>\n",
       "    </tr>\n",
       "    <tr>\n",
       "      <th>23</th>\n",
       "      <td>04/25</td>\n",
       "      <td>17:29:21:412</td>\n",
       "      <td>1</td>\n",
       "      <td>a20016</td>\n",
       "      <td>0019840000636300</td>\n",
       "    </tr>\n",
       "    <tr>\n",
       "      <th>24</th>\n",
       "      <td>04/25</td>\n",
       "      <td>17:29:21:413</td>\n",
       "      <td>1</td>\n",
       "      <td>f00006</td>\n",
       "      <td>000032000000e000</td>\n",
       "    </tr>\n",
       "    <tr>\n",
       "      <th>25</th>\n",
       "      <td>04/25</td>\n",
       "      <td>17:29:21:413</td>\n",
       "      <td>1</td>\n",
       "      <td>1400006</td>\n",
       "      <td>0000000003f30215</td>\n",
       "    </tr>\n",
       "    <tr>\n",
       "      <th>26</th>\n",
       "      <td>04/25</td>\n",
       "      <td>17:29:21:413</td>\n",
       "      <td>1</td>\n",
       "      <td>1600012</td>\n",
       "      <td>000005076e5dc81a</td>\n",
       "    </tr>\n",
       "    <tr>\n",
       "      <th>27</th>\n",
       "      <td>04/25</td>\n",
       "      <td>17:29:21:418</td>\n",
       "      <td>1</td>\n",
       "      <td>c0402a</td>\n",
       "      <td>1ee4000027ffd3ff</td>\n",
       "    </tr>\n",
       "    <tr>\n",
       "      <th>28</th>\n",
       "      <td>04/25</td>\n",
       "      <td>17:29:21:418</td>\n",
       "      <td>1</td>\n",
       "      <td>d00022</td>\n",
       "      <td>0000000000000000</td>\n",
       "    </tr>\n",
       "    <tr>\n",
       "      <th>29</th>\n",
       "      <td>04/25</td>\n",
       "      <td>17:29:21:419</td>\n",
       "      <td>1</td>\n",
       "      <td>224024</td>\n",
       "      <td>1848440013ff0000</td>\n",
       "    </tr>\n",
       "    <tr>\n",
       "      <th>...</th>\n",
       "      <td>...</td>\n",
       "      <td>...</td>\n",
       "      <td>...</td>\n",
       "      <td>...</td>\n",
       "      <td>...</td>\n",
       "    </tr>\n",
       "    <tr>\n",
       "      <th>55348</th>\n",
       "      <td>04/25</td>\n",
       "      <td>17:30:02:142</td>\n",
       "      <td>1</td>\n",
       "      <td>e24026</td>\n",
       "      <td>0001e0408f0e0543</td>\n",
       "    </tr>\n",
       "    <tr>\n",
       "      <th>55349</th>\n",
       "      <td>04/25</td>\n",
       "      <td>17:30:02:142</td>\n",
       "      <td>1</td>\n",
       "      <td>10004002</td>\n",
       "      <td>82b5036cc2f9c3b6</td>\n",
       "    </tr>\n",
       "    <tr>\n",
       "      <th>55350</th>\n",
       "      <td>04/25</td>\n",
       "      <td>17:30:02:143</td>\n",
       "      <td>1</td>\n",
       "      <td>10e24000</td>\n",
       "      <td>0000000000000000</td>\n",
       "    </tr>\n",
       "    <tr>\n",
       "      <th>55351</th>\n",
       "      <td>04/25</td>\n",
       "      <td>17:30:02:144</td>\n",
       "      <td>1</td>\n",
       "      <td>c0402a</td>\n",
       "      <td>1ee4000027ffd3ff</td>\n",
       "    </tr>\n",
       "    <tr>\n",
       "      <th>55352</th>\n",
       "      <td>04/25</td>\n",
       "      <td>17:30:02:144</td>\n",
       "      <td>1</td>\n",
       "      <td>d00022</td>\n",
       "      <td>0000000000000000</td>\n",
       "    </tr>\n",
       "    <tr>\n",
       "      <th>55353</th>\n",
       "      <td>04/25</td>\n",
       "      <td>17:30:02:147</td>\n",
       "      <td>1</td>\n",
       "      <td>42406c</td>\n",
       "      <td>00a800006000c00f</td>\n",
       "    </tr>\n",
       "    <tr>\n",
       "      <th>55354</th>\n",
       "      <td>04/25</td>\n",
       "      <td>17:30:02:147</td>\n",
       "      <td>1</td>\n",
       "      <td>62401e</td>\n",
       "      <td>02604591ea6264d5</td>\n",
       "    </tr>\n",
       "    <tr>\n",
       "      <th>55355</th>\n",
       "      <td>04/25</td>\n",
       "      <td>17:30:02:148</td>\n",
       "      <td>1</td>\n",
       "      <td>80401e</td>\n",
       "      <td>0608066400247200</td>\n",
       "    </tr>\n",
       "    <tr>\n",
       "      <th>55356</th>\n",
       "      <td>04/25</td>\n",
       "      <td>17:30:02:148</td>\n",
       "      <td>1</td>\n",
       "      <td>a20016</td>\n",
       "      <td>011984d50069f700</td>\n",
       "    </tr>\n",
       "    <tr>\n",
       "      <th>55357</th>\n",
       "      <td>04/25</td>\n",
       "      <td>17:30:02:148</td>\n",
       "      <td>1</td>\n",
       "      <td>f00006</td>\n",
       "      <td>000032000000e000</td>\n",
       "    </tr>\n",
       "    <tr>\n",
       "      <th>55358</th>\n",
       "      <td>04/25</td>\n",
       "      <td>17:30:02:149</td>\n",
       "      <td>1</td>\n",
       "      <td>1000020</td>\n",
       "      <td>00000001cc04c000</td>\n",
       "    </tr>\n",
       "    <tr>\n",
       "      <th>55359</th>\n",
       "      <td>04/25</td>\n",
       "      <td>17:30:02:149</td>\n",
       "      <td>1</td>\n",
       "      <td>1400006</td>\n",
       "      <td>0000000003f70262</td>\n",
       "    </tr>\n",
       "    <tr>\n",
       "      <th>55360</th>\n",
       "      <td>04/25</td>\n",
       "      <td>17:30:02:149</td>\n",
       "      <td>1</td>\n",
       "      <td>10400020</td>\n",
       "      <td>002947659b370dc8</td>\n",
       "    </tr>\n",
       "    <tr>\n",
       "      <th>55361</th>\n",
       "      <td>04/25</td>\n",
       "      <td>17:30:02:149</td>\n",
       "      <td>1</td>\n",
       "      <td>10800006</td>\n",
       "      <td>006f006f8daca0bd</td>\n",
       "    </tr>\n",
       "    <tr>\n",
       "      <th>55362</th>\n",
       "      <td>04/25</td>\n",
       "      <td>17:30:02:154</td>\n",
       "      <td>1</td>\n",
       "      <td>c0402a</td>\n",
       "      <td>1ee4000027ffd3ff</td>\n",
       "    </tr>\n",
       "    <tr>\n",
       "      <th>55363</th>\n",
       "      <td>04/25</td>\n",
       "      <td>17:30:02:154</td>\n",
       "      <td>1</td>\n",
       "      <td>d00022</td>\n",
       "      <td>0000000000000000</td>\n",
       "    </tr>\n",
       "    <tr>\n",
       "      <th>55364</th>\n",
       "      <td>04/25</td>\n",
       "      <td>17:30:02:155</td>\n",
       "      <td>1</td>\n",
       "      <td>11000022</td>\n",
       "      <td>01bbcc0d0056034a</td>\n",
       "    </tr>\n",
       "    <tr>\n",
       "      <th>55365</th>\n",
       "      <td>04/25</td>\n",
       "      <td>17:30:02:156</td>\n",
       "      <td>1</td>\n",
       "      <td>224024</td>\n",
       "      <td>184800089bff0000</td>\n",
       "    </tr>\n",
       "    <tr>\n",
       "      <th>55366</th>\n",
       "      <td>04/25</td>\n",
       "      <td>17:30:02:156</td>\n",
       "      <td>1</td>\n",
       "      <td>e24026</td>\n",
       "      <td>000160408f0e053e</td>\n",
       "    </tr>\n",
       "    <tr>\n",
       "      <th>55367</th>\n",
       "      <td>04/25</td>\n",
       "      <td>17:30:02:156</td>\n",
       "      <td>1</td>\n",
       "      <td>10004002</td>\n",
       "      <td>82b20379c312c3c2</td>\n",
       "    </tr>\n",
       "    <tr>\n",
       "      <th>55368</th>\n",
       "      <td>04/25</td>\n",
       "      <td>17:30:02:157</td>\n",
       "      <td>1</td>\n",
       "      <td>62401e</td>\n",
       "      <td>02604594ea6264d5</td>\n",
       "    </tr>\n",
       "    <tr>\n",
       "      <th>55369</th>\n",
       "      <td>04/25</td>\n",
       "      <td>17:30:02:157</td>\n",
       "      <td>1</td>\n",
       "      <td>80401e</td>\n",
       "      <td>1e08066400247200</td>\n",
       "    </tr>\n",
       "    <tr>\n",
       "      <th>55370</th>\n",
       "      <td>04/25</td>\n",
       "      <td>17:30:02:157</td>\n",
       "      <td>1</td>\n",
       "      <td>42406c</td>\n",
       "      <td>408800006000c00f</td>\n",
       "    </tr>\n",
       "    <tr>\n",
       "      <th>55371</th>\n",
       "      <td>04/25</td>\n",
       "      <td>17:30:02:158</td>\n",
       "      <td>1</td>\n",
       "      <td>a20016</td>\n",
       "      <td>001984d50069f700</td>\n",
       "    </tr>\n",
       "    <tr>\n",
       "      <th>55372</th>\n",
       "      <td>04/25</td>\n",
       "      <td>17:30:02:158</td>\n",
       "      <td>1</td>\n",
       "      <td>f00006</td>\n",
       "      <td>000032000000e000</td>\n",
       "    </tr>\n",
       "    <tr>\n",
       "      <th>55373</th>\n",
       "      <td>04/25</td>\n",
       "      <td>17:30:02:158</td>\n",
       "      <td>1</td>\n",
       "      <td>1000020</td>\n",
       "      <td>00000001cc04c000</td>\n",
       "    </tr>\n",
       "    <tr>\n",
       "      <th>55374</th>\n",
       "      <td>04/25</td>\n",
       "      <td>17:30:02:158</td>\n",
       "      <td>1</td>\n",
       "      <td>1400006</td>\n",
       "      <td>0000000003f70262</td>\n",
       "    </tr>\n",
       "    <tr>\n",
       "      <th>55375</th>\n",
       "      <td>04/25</td>\n",
       "      <td>17:30:02:159</td>\n",
       "      <td>1</td>\n",
       "      <td>1600012</td>\n",
       "      <td>800005076e5dc81a</td>\n",
       "    </tr>\n",
       "    <tr>\n",
       "      <th>55376</th>\n",
       "      <td>04/25</td>\n",
       "      <td>17:30:02:164</td>\n",
       "      <td>1</td>\n",
       "      <td>c0402a</td>\n",
       "      <td>1ee4000027ffd3ff</td>\n",
       "    </tr>\n",
       "    <tr>\n",
       "      <th>55377</th>\n",
       "      <td>04/25</td>\n",
       "      <td>17:30:02:164</td>\n",
       "      <td>1</td>\n",
       "      <td>d00022</td>\n",
       "      <td>0000000000000000</td>\n",
       "    </tr>\n",
       "  </tbody>\n",
       "</table>\n",
       "<p>55378 rows × 5 columns</p>\n",
       "</div>"
      ],
      "text/plain": [
       "        Date     Timestamp  Type        ID              Data\n",
       "0      04/25  17:29:21:398     1    c0402a  1ee4000027ffd3ff\n",
       "1      04/25  17:29:21:398     1    d00022  0000000000000000\n",
       "2      04/25  17:29:21:398     1  11000022  01bbcc000055034a\n",
       "3      04/25  17:29:21:399     1  11420006  0000000f0000c000\n",
       "4      04/25  17:29:21:400     1    42406c  408a40006000c00f\n",
       "5      04/25  17:29:21:400     1   1000020  00000001cc04c000\n",
       "6      04/25  17:29:21:402     1    62401e  02144440fa156400\n",
       "7      04/25  17:29:21:402     1    80401e  06000366002b7a00\n",
       "8      04/25  17:29:21:403     1    a20016  0519840000636300\n",
       "9      04/25  17:29:21:403     1    f00006  000032000000e000\n",
       "10     04/25  17:29:21:403     1   1400006  0000000003f30215\n",
       "11     04/25  17:29:21:405     1    224024  1c48440013ff0000\n",
       "12     04/25  17:29:21:406     1    e24026  0001e0408f000000\n",
       "13     04/25  17:29:21:406     1  10004002  80000000c000c000\n",
       "14     04/25  17:29:21:406     1  10800006  0080006f00000100\n",
       "15     04/25  17:29:21:407     1  10e24000  0000000000000000\n",
       "16     04/25  17:29:21:408     1    c0402a  1ee4000027ffd3ff\n",
       "17     04/25  17:29:21:408     1    d00022  0000000000000000\n",
       "18     04/25  17:29:21:410     1    42406c  80e800006000c00f\n",
       "19     04/25  17:29:21:410     1   1000020  00000001cc04c000\n",
       "20     04/25  17:29:21:410     1  10400020  802947689b370db5\n",
       "21     04/25  17:29:21:412     1    62401e  02146440fa156400\n",
       "22     04/25  17:29:21:412     1    80401e  1e00036a002b7a00\n",
       "23     04/25  17:29:21:412     1    a20016  0019840000636300\n",
       "24     04/25  17:29:21:413     1    f00006  000032000000e000\n",
       "25     04/25  17:29:21:413     1   1400006  0000000003f30215\n",
       "26     04/25  17:29:21:413     1   1600012  000005076e5dc81a\n",
       "27     04/25  17:29:21:418     1    c0402a  1ee4000027ffd3ff\n",
       "28     04/25  17:29:21:418     1    d00022  0000000000000000\n",
       "29     04/25  17:29:21:419     1    224024  1848440013ff0000\n",
       "...      ...           ...   ...       ...               ...\n",
       "55348  04/25  17:30:02:142     1    e24026  0001e0408f0e0543\n",
       "55349  04/25  17:30:02:142     1  10004002  82b5036cc2f9c3b6\n",
       "55350  04/25  17:30:02:143     1  10e24000  0000000000000000\n",
       "55351  04/25  17:30:02:144     1    c0402a  1ee4000027ffd3ff\n",
       "55352  04/25  17:30:02:144     1    d00022  0000000000000000\n",
       "55353  04/25  17:30:02:147     1    42406c  00a800006000c00f\n",
       "55354  04/25  17:30:02:147     1    62401e  02604591ea6264d5\n",
       "55355  04/25  17:30:02:148     1    80401e  0608066400247200\n",
       "55356  04/25  17:30:02:148     1    a20016  011984d50069f700\n",
       "55357  04/25  17:30:02:148     1    f00006  000032000000e000\n",
       "55358  04/25  17:30:02:149     1   1000020  00000001cc04c000\n",
       "55359  04/25  17:30:02:149     1   1400006  0000000003f70262\n",
       "55360  04/25  17:30:02:149     1  10400020  002947659b370dc8\n",
       "55361  04/25  17:30:02:149     1  10800006  006f006f8daca0bd\n",
       "55362  04/25  17:30:02:154     1    c0402a  1ee4000027ffd3ff\n",
       "55363  04/25  17:30:02:154     1    d00022  0000000000000000\n",
       "55364  04/25  17:30:02:155     1  11000022  01bbcc0d0056034a\n",
       "55365  04/25  17:30:02:156     1    224024  184800089bff0000\n",
       "55366  04/25  17:30:02:156     1    e24026  000160408f0e053e\n",
       "55367  04/25  17:30:02:156     1  10004002  82b20379c312c3c2\n",
       "55368  04/25  17:30:02:157     1    62401e  02604594ea6264d5\n",
       "55369  04/25  17:30:02:157     1    80401e  1e08066400247200\n",
       "55370  04/25  17:30:02:157     1    42406c  408800006000c00f\n",
       "55371  04/25  17:30:02:158     1    a20016  001984d50069f700\n",
       "55372  04/25  17:30:02:158     1    f00006  000032000000e000\n",
       "55373  04/25  17:30:02:158     1   1000020  00000001cc04c000\n",
       "55374  04/25  17:30:02:158     1   1400006  0000000003f70262\n",
       "55375  04/25  17:30:02:159     1   1600012  800005076e5dc81a\n",
       "55376  04/25  17:30:02:164     1    c0402a  1ee4000027ffd3ff\n",
       "55377  04/25  17:30:02:164     1    d00022  0000000000000000\n",
       "\n",
       "[55378 rows x 5 columns]"
      ]
     },
     "execution_count": 524,
     "metadata": {},
     "output_type": "execute_result"
    }
   ],
   "source": [
    "df"
   ]
  },
  {
   "cell_type": "markdown",
   "metadata": {},
   "source": [
    "### Pruning log to most important fields"
   ]
  },
  {
   "cell_type": "code",
   "execution_count": 525,
   "metadata": {},
   "outputs": [
    {
     "data": {
      "text/plain": [
       "[1]"
      ]
     },
     "execution_count": 525,
     "metadata": {},
     "output_type": "execute_result"
    }
   ],
   "source": [
    "list(df.Type.unique())"
   ]
  },
  {
   "cell_type": "markdown",
   "metadata": {},
   "source": [
    "From *\"CLX000_Manual_FW_5.7X.pdf\"*:\n",
    "\n",
    "**Type**:\n",
    "\n",
    "```Message type indicator. Is either 0 (received standard), 1 (received extended), 8 (transmitted standard) or 9 (transmitted extended) in the log file```\n",
    "\n",
    "So every row in this file has Type=1, 'received extended' - extended CAN frames are 8 bytes each"
   ]
  },
  {
   "cell_type": "code",
   "execution_count": 526,
   "metadata": {},
   "outputs": [],
   "source": [
    "# So we don't need Type or Date (all same day)\n",
    "del df['Date']\n",
    "del df['Type']"
   ]
  },
  {
   "cell_type": "code",
   "execution_count": 527,
   "metadata": {},
   "outputs": [
    {
     "data": {
      "text/html": [
       "<div>\n",
       "<style scoped>\n",
       "    .dataframe tbody tr th:only-of-type {\n",
       "        vertical-align: middle;\n",
       "    }\n",
       "\n",
       "    .dataframe tbody tr th {\n",
       "        vertical-align: top;\n",
       "    }\n",
       "\n",
       "    .dataframe thead th {\n",
       "        text-align: right;\n",
       "    }\n",
       "</style>\n",
       "<table border=\"1\" class=\"dataframe\">\n",
       "  <thead>\n",
       "    <tr style=\"text-align: right;\">\n",
       "      <th></th>\n",
       "      <th>Timestamp</th>\n",
       "      <th>ID</th>\n",
       "      <th>Data</th>\n",
       "    </tr>\n",
       "  </thead>\n",
       "  <tbody>\n",
       "    <tr>\n",
       "      <th>0</th>\n",
       "      <td>17:29:21:398</td>\n",
       "      <td>c0402a</td>\n",
       "      <td>1ee4000027ffd3ff</td>\n",
       "    </tr>\n",
       "    <tr>\n",
       "      <th>1</th>\n",
       "      <td>17:29:21:398</td>\n",
       "      <td>d00022</td>\n",
       "      <td>0000000000000000</td>\n",
       "    </tr>\n",
       "    <tr>\n",
       "      <th>2</th>\n",
       "      <td>17:29:21:398</td>\n",
       "      <td>11000022</td>\n",
       "      <td>01bbcc000055034a</td>\n",
       "    </tr>\n",
       "    <tr>\n",
       "      <th>3</th>\n",
       "      <td>17:29:21:399</td>\n",
       "      <td>11420006</td>\n",
       "      <td>0000000f0000c000</td>\n",
       "    </tr>\n",
       "    <tr>\n",
       "      <th>4</th>\n",
       "      <td>17:29:21:400</td>\n",
       "      <td>42406c</td>\n",
       "      <td>408a40006000c00f</td>\n",
       "    </tr>\n",
       "    <tr>\n",
       "      <th>5</th>\n",
       "      <td>17:29:21:400</td>\n",
       "      <td>1000020</td>\n",
       "      <td>00000001cc04c000</td>\n",
       "    </tr>\n",
       "    <tr>\n",
       "      <th>6</th>\n",
       "      <td>17:29:21:402</td>\n",
       "      <td>62401e</td>\n",
       "      <td>02144440fa156400</td>\n",
       "    </tr>\n",
       "    <tr>\n",
       "      <th>7</th>\n",
       "      <td>17:29:21:402</td>\n",
       "      <td>80401e</td>\n",
       "      <td>06000366002b7a00</td>\n",
       "    </tr>\n",
       "    <tr>\n",
       "      <th>8</th>\n",
       "      <td>17:29:21:403</td>\n",
       "      <td>a20016</td>\n",
       "      <td>0519840000636300</td>\n",
       "    </tr>\n",
       "    <tr>\n",
       "      <th>9</th>\n",
       "      <td>17:29:21:403</td>\n",
       "      <td>f00006</td>\n",
       "      <td>000032000000e000</td>\n",
       "    </tr>\n",
       "  </tbody>\n",
       "</table>\n",
       "</div>"
      ],
      "text/plain": [
       "      Timestamp        ID              Data\n",
       "0  17:29:21:398    c0402a  1ee4000027ffd3ff\n",
       "1  17:29:21:398    d00022  0000000000000000\n",
       "2  17:29:21:398  11000022  01bbcc000055034a\n",
       "3  17:29:21:399  11420006  0000000f0000c000\n",
       "4  17:29:21:400    42406c  408a40006000c00f\n",
       "5  17:29:21:400   1000020  00000001cc04c000\n",
       "6  17:29:21:402    62401e  02144440fa156400\n",
       "7  17:29:21:402    80401e  06000366002b7a00\n",
       "8  17:29:21:403    a20016  0519840000636300\n",
       "9  17:29:21:403    f00006  000032000000e000"
      ]
     },
     "execution_count": 527,
     "metadata": {},
     "output_type": "execute_result"
    }
   ],
   "source": [
    "# Here's what our dataframe looks like now\n",
    "df.head(10)"
   ]
  },
  {
   "cell_type": "markdown",
   "metadata": {},
   "source": [
    "### Examining IDs and Data"
   ]
  },
  {
   "cell_type": "code",
   "execution_count": 528,
   "metadata": {},
   "outputs": [
    {
     "name": "stdout",
     "output_type": "stream",
     "text": [
      "There are 55378 rows in this log\n",
      "There are 8423 unique Data values in this log\n",
      "There are 27 unique ID values in this log\n"
     ]
    }
   ],
   "source": [
    "id_vals = list(df.ID.unique())\n",
    "data_vals = list(df.Data.unique())\n",
    "\n",
    "print(\"There are \"    +str(len(df))          +\" rows in this log\")\n",
    "print(\"There are \"    +str(len(data_vals))   +\" unique Data values in this log\")\n",
    "print(\"There are \"    +str(len(id_vals))     +\" unique ID values in this log\")"
   ]
  },
  {
   "cell_type": "code",
   "execution_count": 529,
   "metadata": {},
   "outputs": [
    {
     "data": {
      "text/plain": [
       "[('62401e', 4078),\n",
       " ('80401e', 4078),\n",
       " ('a20016', 4078),\n",
       " ('f00006', 4078),\n",
       " ('1400006', 4078),\n",
       " ('42406c', 4077),\n",
       " ('1000020', 4077),\n",
       " ('c0402a', 4076),\n",
       " ('d00022', 4076),\n",
       " ('224024', 2910)]"
      ]
     },
     "execution_count": 529,
     "metadata": {},
     "output_type": "execute_result"
    }
   ],
   "source": [
    "# Most common ID values\n",
    "id_counter = Counter(df.ID)\n",
    "id_counter.most_common(10)"
   ]
  },
  {
   "cell_type": "code",
   "execution_count": 530,
   "metadata": {
    "scrolled": false
   },
   "outputs": [
    {
     "data": {
      "text/plain": [
       "[('0000000000000000', 4862),\n",
       " ('000032000000e000', 4078),\n",
       " ('00000001cc04c000', 3277),\n",
       " ('1ee4000027ffd3ff', 2726),\n",
       " ('80000000c000c000', 1872),\n",
       " ('000160408f000000', 1405),\n",
       " ('1ee4000007ffc7ff', 1121),\n",
       " ('00000001cb04c000', 800),\n",
       " ('00a800006000c00f', 521),\n",
       " ('000005076e5dc81a', 510)]"
      ]
     },
     "execution_count": 530,
     "metadata": {},
     "output_type": "execute_result"
    }
   ],
   "source": [
    "# Most common Data values\n",
    "data_counter = Counter(df.Data)\n",
    "data_counter.most_common(10)"
   ]
  },
  {
   "cell_type": "markdown",
   "metadata": {},
   "source": [
    "#### Let's take the most common ID and see what happens to the data associated with this ID over time"
   ]
  },
  {
   "cell_type": "code",
   "execution_count": 490,
   "metadata": {
    "scrolled": true
   },
   "outputs": [
    {
     "data": {
      "text/html": [
       "<div>\n",
       "<style scoped>\n",
       "    .dataframe tbody tr th:only-of-type {\n",
       "        vertical-align: middle;\n",
       "    }\n",
       "\n",
       "    .dataframe tbody tr th {\n",
       "        vertical-align: top;\n",
       "    }\n",
       "\n",
       "    .dataframe thead th {\n",
       "        text-align: right;\n",
       "    }\n",
       "</style>\n",
       "<table border=\"1\" class=\"dataframe\">\n",
       "  <thead>\n",
       "    <tr style=\"text-align: right;\">\n",
       "      <th></th>\n",
       "      <th>Timestamp</th>\n",
       "      <th>ID</th>\n",
       "      <th>Data</th>\n",
       "    </tr>\n",
       "  </thead>\n",
       "  <tbody>\n",
       "    <tr>\n",
       "      <th>6</th>\n",
       "      <td>17:29:21:402</td>\n",
       "      <td>62401e</td>\n",
       "      <td>02144440fa156400</td>\n",
       "    </tr>\n",
       "    <tr>\n",
       "      <th>21</th>\n",
       "      <td>17:29:21:412</td>\n",
       "      <td>62401e</td>\n",
       "      <td>02146440fa156400</td>\n",
       "    </tr>\n",
       "    <tr>\n",
       "      <th>35</th>\n",
       "      <td>17:29:21:422</td>\n",
       "      <td>62401e</td>\n",
       "      <td>02144440fa156400</td>\n",
       "    </tr>\n",
       "    <tr>\n",
       "      <th>44</th>\n",
       "      <td>17:29:21:432</td>\n",
       "      <td>62401e</td>\n",
       "      <td>02144440fa156400</td>\n",
       "    </tr>\n",
       "    <tr>\n",
       "      <th>61</th>\n",
       "      <td>17:29:21:442</td>\n",
       "      <td>62401e</td>\n",
       "      <td>02144440fa156400</td>\n",
       "    </tr>\n",
       "  </tbody>\n",
       "</table>\n",
       "</div>"
      ],
      "text/plain": [
       "       Timestamp      ID              Data\n",
       "6   17:29:21:402  62401e  02144440fa156400\n",
       "21  17:29:21:412  62401e  02146440fa156400\n",
       "35  17:29:21:422  62401e  02144440fa156400\n",
       "44  17:29:21:432  62401e  02144440fa156400\n",
       "61  17:29:21:442  62401e  02144440fa156400"
      ]
     },
     "execution_count": 490,
     "metadata": {},
     "output_type": "execute_result"
    }
   ],
   "source": [
    "df2 = df[df['ID'] == '62401e']\n",
    "df2.head()"
   ]
  },
  {
   "cell_type": "code",
   "execution_count": 502,
   "metadata": {
    "scrolled": true
   },
   "outputs": [
    {
     "data": {
      "text/plain": [
       "<matplotlib.axes._subplots.AxesSubplot at 0x1108c12e8>"
      ]
     },
     "execution_count": 502,
     "metadata": {},
     "output_type": "execute_result"
    },
    {
     "data": {
      "image/png": "[encoded data removed]",
      "text/plain": [
       "<Figure size 432x288 with 1 Axes>"
      ]
     },
     "metadata": {},
     "output_type": "display_data"
    }
   ],
   "source": [
    "df2.plot(x=\"Timestamp\", y=\"Data\", title=\"Data with ID=62401e over time\")"
   ]
  },
  {
   "cell_type": "markdown",
   "metadata": {},
   "source": [
    "We can see the graph spikes at the end. Referring back to the sequence of live events, we know that the car was sitting still switching back from park to drive before accelerating at the end of the logged period. So this could be 'Engine Speed'.\n",
    "\n",
    "Let's look at the other common IDs and see if a clearer picture emerges."
   ]
  },
  {
   "cell_type": "code",
   "execution_count": 620,
   "metadata": {
    "scrolled": true
   },
   "outputs": [
    {
     "data": {
      "text/html": [
       "<div>\n",
       "<style scoped>\n",
       "    .dataframe tbody tr th:only-of-type {\n",
       "        vertical-align: middle;\n",
       "    }\n",
       "\n",
       "    .dataframe tbody tr th {\n",
       "        vertical-align: top;\n",
       "    }\n",
       "\n",
       "    .dataframe thead th {\n",
       "        text-align: right;\n",
       "    }\n",
       "</style>\n",
       "<table border=\"1\" class=\"dataframe\">\n",
       "  <thead>\n",
       "    <tr style=\"text-align: right;\">\n",
       "      <th></th>\n",
       "      <th>Timestamp</th>\n",
       "      <th>ID</th>\n",
       "      <th>Data</th>\n",
       "    </tr>\n",
       "  </thead>\n",
       "  <tbody>\n",
       "    <tr>\n",
       "      <th>7</th>\n",
       "      <td>17:29:21:402</td>\n",
       "      <td>80401e</td>\n",
       "      <td>06000366002b7a00</td>\n",
       "    </tr>\n",
       "    <tr>\n",
       "      <th>22</th>\n",
       "      <td>17:29:21:412</td>\n",
       "      <td>80401e</td>\n",
       "      <td>1e00036a002b7a00</td>\n",
       "    </tr>\n",
       "    <tr>\n",
       "      <th>36</th>\n",
       "      <td>17:29:21:422</td>\n",
       "      <td>80401e</td>\n",
       "      <td>0601036a002b7a00</td>\n",
       "    </tr>\n",
       "    <tr>\n",
       "      <th>45</th>\n",
       "      <td>17:29:21:432</td>\n",
       "      <td>80401e</td>\n",
       "      <td>1e01036a002b7a00</td>\n",
       "    </tr>\n",
       "    <tr>\n",
       "      <th>62</th>\n",
       "      <td>17:29:21:442</td>\n",
       "      <td>80401e</td>\n",
       "      <td>06000367002b7a00</td>\n",
       "    </tr>\n",
       "  </tbody>\n",
       "</table>\n",
       "</div>"
      ],
      "text/plain": [
       "       Timestamp      ID              Data\n",
       "7   17:29:21:402  80401e  06000366002b7a00\n",
       "22  17:29:21:412  80401e  1e00036a002b7a00\n",
       "36  17:29:21:422  80401e  0601036a002b7a00\n",
       "45  17:29:21:432  80401e  1e01036a002b7a00\n",
       "62  17:29:21:442  80401e  06000367002b7a00"
      ]
     },
     "execution_count": 620,
     "metadata": {},
     "output_type": "execute_result"
    }
   ],
   "source": [
    "df3 = df[df['ID'] == '80401e']\n",
    "df3.head()"
   ]
  },
  {
   "cell_type": "code",
   "execution_count": 629,
   "metadata": {},
   "outputs": [
    {
     "name": "stderr",
     "output_type": "stream",
     "text": [
      "/anaconda3/lib/python3.6/site-packages/ipykernel_launcher.py:1: SettingWithCopyWarning: \n",
      "A value is trying to be set on a copy of a slice from a DataFrame.\n",
      "Try using .loc[row_indexer,col_indexer] = value instead\n",
      "\n",
      "See the caveats in the documentation: http://pandas.pydata.org/pandas-docs/stable/indexing.html#indexing-view-versus-copy\n",
      "  \"\"\"Entry point for launching an IPython kernel.\n"
     ]
    }
   ],
   "source": [
    "df3['IntData'] = df3.Data.apply(int, base=16)"
   ]
  },
  {
   "cell_type": "code",
   "execution_count": 626,
   "metadata": {},
   "outputs": [
    {
     "data": {
      "text/plain": [
       "<matplotlib.axes._subplots.AxesSubplot at 0x1a1dd45048>"
      ]
     },
     "execution_count": 626,
     "metadata": {},
     "output_type": "execute_result"
    },
    {
     "data": {
      "image/png": "[encoded data removed]",
      "text/plain": [
       "<Figure size 432x288 with 1 Axes>"
      ]
     },
     "metadata": {},
     "output_type": "display_data"
    }
   ],
   "source": [
    "df3.plot(x=\"Timestamp\", y=\"IntData\", title=\"Data with ID=62401e over time\")"
   ]
  },
  {
   "cell_type": "code",
   "execution_count": 634,
   "metadata": {},
   "outputs": [
    {
     "name": "stderr",
     "output_type": "stream",
     "text": [
      "/anaconda3/lib/python3.6/site-packages/ipykernel_launcher.py:4: SettingWithCopyWarning: \n",
      "A value is trying to be set on a copy of a slice from a DataFrame.\n",
      "Try using .loc[row_indexer,col_indexer] = value instead\n",
      "\n",
      "See the caveats in the documentation: http://pandas.pydata.org/pandas-docs/stable/indexing.html#indexing-view-versus-copy\n",
      "  after removing the cwd from sys.path.\n"
     ]
    },
    {
     "data": {
      "image/png": "[encoded data removed]",
      "text/plain": [
       "<Figure size 432x288 with 1 Axes>"
      ]
     },
     "metadata": {},
     "output_type": "display_data"
    },
    {
     "data": {
      "image/png": "[encoded data removed]",
      "text/plain": [
       "<Figure size 432x288 with 1 Axes>"
      ]
     },
     "metadata": {},
     "output_type": "display_data"
    },
    {
     "data": {
      "image/png": "[encoded data removed]",
      "text/plain": [
       "<Figure size 432x288 with 1 Axes>"
      ]
     },
     "metadata": {},
     "output_type": "display_data"
    },
    {
     "data": {
      "image/png": "[encoded data removed]",
      "text/plain": [
       "<Figure size 432x288 with 1 Axes>"
      ]
     },
     "metadata": {},
     "output_type": "display_data"
    },
    {
     "data": {
      "image/png": "[encoded data removed]",
      "text/plain": [
       "<Figure size 432x288 with 1 Axes>"
      ]
     },
     "metadata": {},
     "output_type": "display_data"
    },
    {
     "data": {
      "image/png": "[encoded data removed]",
      "text/plain": [
       "<Figure size 432x288 with 1 Axes>"
      ]
     },
     "metadata": {},
     "output_type": "display_data"
    },
    {
     "data": {
      "image/png": "[encoded data removed]",
      "text/plain": [
       "<Figure size 432x288 with 1 Axes>"
      ]
     },
     "metadata": {},
     "output_type": "display_data"
    },
    {
     "data": {
      "image/png": "[encoded data removed]",
      "text/plain": [
       "<Figure size 432x288 with 1 Axes>"
      ]
     },
     "metadata": {},
     "output_type": "display_data"
    },
    {
     "data": {
      "image/png": "[encoded data removed]",
      "text/plain": [
       "<Figure size 432x288 with 1 Axes>"
      ]
     },
     "metadata": {},
     "output_type": "display_data"
    },
    {
     "data": {
      "image/png": "[encoded data removed]",
      "text/plain": [
       "<Figure size 432x288 with 1 Axes>"
      ]
     },
     "metadata": {},
     "output_type": "display_data"
    }
   ],
   "source": [
    "for id, count in id_counter.most_common(10):\n",
    "    df_temp = df[df['ID']==id]\n",
    "    df_temp['IntData'] = df_temp.Data.apply(int, base=16)\n",
    "    df_temp.plot(x=\"Timestamp\", y=\"IntData\", title=\"Data with ID=\"+id +\" over time\")"
   ]
  },
  {
   "cell_type": "markdown",
   "metadata": {},
   "source": [
    "### Further Exploration (unfinished)"
   ]
  },
  {
   "cell_type": "code",
   "execution_count": null,
   "metadata": {},
   "outputs": [],
   "source": [
    "from collections import defaultdict\n",
    "\n",
    "def data_to_bytes_df(data_list):\n",
    "    '''converts list of extended CAN frames (8 bytes) into pandas dataframe w/ columns = bytes'''\n",
    "    \n",
    "    d = defaultdict(list)\n",
    "    for data in data_list:\n",
    "        for i in range(16,0,-2):\n",
    "            d[i//2].append(data[16-i:16-i+2])\n",
    "\n",
    "    return pd.DataFrame.from_dict(d)"
   ]
  }
 ],
 "metadata": {
  "kernelspec": {
   "display_name": "Python 3",
   "language": "python",
   "name": "python3"
  },
  "language_info": {
   "codemirror_mode": {
    "name": "ipython",
    "version": 3
   },
   "file_extension": ".py",
   "mimetype": "text/x-python",
   "name": "python",
   "nbconvert_exporter": "python",
   "pygments_lexer": "ipython3",
   "version": "3.6.5"
  }
 },
 "nbformat": 4,
 "nbformat_minor": 2
}
